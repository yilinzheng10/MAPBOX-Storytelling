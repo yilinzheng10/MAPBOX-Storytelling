{
 "cells": [
  {
   "cell_type": "code",
   "execution_count": 1,
   "metadata": {},
   "outputs": [
    {
     "name": "stdout",
     "output_type": "stream",
     "text": [
      "Extracted 57832 features with target elevations.\n",
      "Filtered GeoJSON saved to data/contour_NYC_2ft_extracted.geojson\n"
     ]
    }
   ],
   "source": [
    "import json\n",
    "\n",
    "# Specify the GeoJSON file path\n",
    "input_geojson = \"data/contour_NYC_2ft.geojson\"\n",
    "output_geojson = \"data/contour_NYC_2ft_extracted.geojson\"\n",
    "\n",
    "# Elevations to extract\n",
    "target_elevations = [\"-2 ft\", \"0 ft\", \"2 ft\", \"6 ft\", \"10 ft\", \"20 ft\"]\n",
    "\n",
    "# Load the GeoJSON file\n",
    "with open(input_geojson, \"r\") as file:\n",
    "    data = json.load(file)\n",
    "\n",
    "# Extract features with matching elevations\n",
    "filtered_features = [\n",
    "    feature for feature in data[\"features\"]\n",
    "    if \"ELEVATION\" in feature[\"properties\"] and feature[\"properties\"][\"ELEVATION\"] in target_elevations\n",
    "]\n",
    "\n",
    "# Create a new GeoJSON object for the filtered features\n",
    "filtered_geojson = {\n",
    "    \"type\": \"FeatureCollection\",\n",
    "    \"features\": filtered_features,\n",
    "}\n",
    "\n",
    "# Save the filtered GeoJSON to a new file\n",
    "with open(output_geojson, \"w\") as file:\n",
    "    json.dump(filtered_geojson, file, indent=2)\n",
    "\n",
    "print(f\"Extracted {len(filtered_features)} features with target elevations.\")\n",
    "print(f\"Filtered GeoJSON saved to {output_geojson}\")\n"
   ]
  },
  {
   "cell_type": "code",
   "execution_count": 1,
   "metadata": {},
   "outputs": [
    {
     "name": "stdout",
     "output_type": "stream",
     "text": [
      "Original CRS: EPSG:4326\n",
      "Reprojected GeoJSON saved to data/contour_NYC_2ft_reprojected.geojson\n"
     ]
    }
   ],
   "source": [
    "import geopandas as gpd\n",
    "\n",
    "# Path to your input and output GeoJSON files\n",
    "input_geojson = \"data/contour_NYC_2ft_extracted.geojson\"\n",
    "output_geojson = \"data/contour_NYC_2ft_reprojected.geojson\"\n",
    "\n",
    "# Load the GeoJSON file into a GeoDataFrame\n",
    "gdf = gpd.read_file(input_geojson)\n",
    "\n",
    "# Check the current CRS (Coordinate Reference System)\n",
    "print(\"Original CRS:\", gdf.crs)\n",
    "\n",
    "# Reproject to EPSG:4326 (WGS84) if not already in this projection\n",
    "target_crs = \"EPSG:4326\"  # Use EPSG:3857 for Web Mercator if needed\n",
    "gdf_reprojected = gdf.to_crs(target_crs)\n",
    "\n",
    "# Save the reprojected GeoDataFrame to a new GeoJSON file\n",
    "gdf_reprojected.to_file(output_geojson, driver=\"GeoJSON\")\n",
    "\n",
    "print(f\"Reprojected GeoJSON saved to {output_geojson}\")"
   ]
  },
  {
   "cell_type": "code",
   "execution_count": 2,
   "metadata": {},
   "outputs": [
    {
     "name": "stdout",
     "output_type": "stream",
     "text": [
      "CRS: EPSG:4326\n",
      "Geometry Issues: 57832 / 57832\n"
     ]
    }
   ],
   "source": [
    "import geopandas as gpd\n",
    "\n",
    "# Load the GeoJSON file\n",
    "gdf = gpd.read_file(\"data/contour_NYC_2ft_extracted.geojson\")\n",
    "\n",
    "# Check CRS and Geometry\n",
    "print(\"CRS:\", gdf.crs)\n",
    "print(\"Geometry Issues:\", gdf.is_valid.sum(), \"/\", len(gdf))\n"
   ]
  },
  {
   "cell_type": "code",
   "execution_count": 3,
   "metadata": {},
   "outputs": [
    {
     "name": "stdout",
     "output_type": "stream",
     "text": [
      "Number of invalid geometries: 0\n"
     ]
    }
   ],
   "source": [
    "import geopandas as gpd\n",
    "\n",
    "# Load the GeoJSON file\n",
    "gdf = gpd.read_file(\"data/contour_NYC_2ft_extracted.geojson\")\n",
    "\n",
    "# Check geometry validity\n",
    "invalid_geometries = gdf[~gdf.is_valid]\n",
    "print(\"Number of invalid geometries:\", len(invalid_geometries))\n",
    "\n",
    "# Save invalid geometries for inspection\n",
    "invalid_geometries.to_file(\"data/invalid_geometries.geojson\", driver=\"GeoJSON\")\n"
   ]
  },
  {
   "cell_type": "code",
   "execution_count": 5,
   "metadata": {},
   "outputs": [
    {
     "name": "stdout",
     "output_type": "stream",
     "text": [
      "Geometry Issues After Fix: 57832 / 57832\n"
     ]
    },
    {
     "name": "stderr",
     "output_type": "stream",
     "text": [
      "c:\\Users\\zheng\\AppData\\Local\\Programs\\Python\\Python312\\Lib\\site-packages\\pyogrio\\geopandas.py:523: UserWarning: GeoSeries.notna() previously returned False for both missing (None) and empty geometries. Now, it only returns False for missing values. Since the calling GeoSeries contains empty geometries, the result has changed compared to previous versions of GeoPandas.\n",
      "Given a GeoSeries 's', you can use '~s.is_empty & s.notna()' to get back the old behaviour.\n",
      "\n",
      "To further ignore this warning, you can do: \n",
      "import warnings; warnings.filterwarnings('ignore', 'GeoSeries.notna', UserWarning)\n",
      "  has_z_arr = geometry[geometry.notna() & (~geometry.is_empty)].has_z\n"
     ]
    }
   ],
   "source": [
    "from shapely.validation import make_valid\n",
    "\n",
    "# Apply make_valid to all geometries\n",
    "gdf[\"geometry\"] = gdf.geometry.apply(make_valid)\n",
    "\n",
    "# Check if geometries are now valid\n",
    "print(\"Geometry Issues After Fix:\", gdf.is_valid.sum(), \"/\", len(gdf))\n",
    "\n",
    "# Save the fixed GeoJSON\n",
    "gdf.to_file(\"data/fixed_contour.geojson\", driver=\"GeoJSON\")\n",
    "\n"
   ]
  },
  {
   "cell_type": "code",
   "execution_count": 11,
   "metadata": {},
   "outputs": [
    {
     "name": "stdout",
     "output_type": "stream",
     "text": [
      "          minx          miny         maxx          maxy\n",
      "0  581658.5930  4.509639e+06  590366.2623  4.530358e+06\n",
      "1  589911.9628  4.516752e+06  602055.4646  4.530046e+06\n",
      "2  589933.7093  4.528819e+06  589935.0170  4.528821e+06\n",
      "3  599070.8824  4.522560e+06  602556.8781  4.527434e+06\n",
      "4  598830.9501  4.527131e+06  598833.2037  4.527133e+06\n"
     ]
    }
   ],
   "source": [
    "import geopandas as gpd\n",
    "\n",
    "# Load GeoJSON\n",
    "gdf = gpd.read_file(\"data/contour_NYC_2ft_extracted.geojson\")\n",
    "\n",
    "# Display bounds of geometries\n",
    "print(gdf.geometry.bounds.head())\n",
    "\n",
    "# Export raw data for manual inspection\n",
    "gdf.to_file(\"data/raw_geometries.geojson\", driver=\"GeoJSON\")\n"
   ]
  },
  {
   "cell_type": "code",
   "execution_count": 18,
   "metadata": {},
   "outputs": [
    {
     "name": "stdout",
     "output_type": "stream",
     "text": [
      "CRS successfully set to EPSG:26918.\n"
     ]
    }
   ],
   "source": [
    "# Load GeoJSON file\n",
    "gdf = gpd.read_file(\"data/contour_NYC_2ft_extracted.geojson\")\n",
    "\n",
    "# Set the correct CRS (EPSG:26918)\n",
    "gdf = gdf.set_crs(epsg=26918, allow_override=True)\n",
    "\n",
    "print(\"CRS successfully set to EPSG:26918.\")"
   ]
  },
  {
   "cell_type": "code",
   "execution_count": 19,
   "metadata": {},
   "outputs": [
    {
     "name": "stdout",
     "output_type": "stream",
     "text": [
      "Re-projection to EPSG:4326 completed.\n"
     ]
    }
   ],
   "source": [
    "# Re-project to WGS84 (EPSG:4326)\n",
    "gdf_reprojected = gdf.to_crs(epsg=4326)\n",
    "\n",
    "# Save the re-projected GeoJSON\n",
    "gdf_reprojected.to_file(\"data/contour_NYC_2ft_extractedReprojected.geojson\", driver=\"GeoJSON\")\n",
    "\n",
    "print(\"Re-projection to EPSG:4326 completed.\")"
   ]
  },
  {
   "cell_type": "code",
   "execution_count": 20,
   "metadata": {},
   "outputs": [
    {
     "name": "stdout",
     "output_type": "stream",
     "text": [
      "ELEVATION field cleaned and GeoJSON saved.\n"
     ]
    }
   ],
   "source": [
    "# Load the GeoJSON\n",
    "gdf = gpd.read_file(\"data/contour_NYC_2ft_extractedReprojected.geojson\")\n",
    "\n",
    "# Convert ELEVATION field to numeric\n",
    "gdf[\"ELEVATION\"] = gdf[\"ELEVATION\"].str.replace(\" ft\", \"\").astype(float)\n",
    "\n",
    "# Save the cleaned GeoJSON\n",
    "gdf.to_file(\"data/cleaned_contour_NYC_2ft.geojson\", driver=\"GeoJSON\")\n",
    "\n",
    "print(\"ELEVATION field cleaned and GeoJSON saved.\")\n"
   ]
  }
 ],
 "metadata": {
  "kernelspec": {
   "display_name": "Python 3",
   "language": "python",
   "name": "python3"
  },
  "language_info": {
   "codemirror_mode": {
    "name": "ipython",
    "version": 3
   },
   "file_extension": ".py",
   "mimetype": "text/x-python",
   "name": "python",
   "nbconvert_exporter": "python",
   "pygments_lexer": "ipython3",
   "version": "3.12.3"
  }
 },
 "nbformat": 4,
 "nbformat_minor": 2
}
